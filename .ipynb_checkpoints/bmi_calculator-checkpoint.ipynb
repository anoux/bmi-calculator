{
 "cells": [
  {
   "cell_type": "code",
   "execution_count": 1,
   "id": "aef1831b",
   "metadata": {},
   "outputs": [],
   "source": [
    "# BMI (weight in kilograms) / (height in meters ** 2)"
   ]
  },
  {
   "cell_type": "code",
   "execution_count": 2,
   "id": "252f703b",
   "metadata": {},
   "outputs": [
    {
     "name": "stdout",
     "output_type": "stream",
     "text": [
      "Enter your weight in kilograms: 47\n",
      "Enter your weight in meters: 1.57\n",
      "your BMI is: 19.067710657633167\n",
      "You are normal weight.\n"
     ]
    }
   ],
   "source": [
    "weight = int(input(\"Enter your weight in kilograms: \"))\n",
    "\n",
    "height = float(input(\"Enter your weight in meters: \"))\n",
    "\n",
    "BMI = (weight/height**2)\n",
    "\n",
    "print(\"your BMI is: \" + str(BMI))\n",
    "\n",
    "if BMI<18.5:\n",
    "    print(\"You are underweight.\")\n",
    "elif BMI>=18.5 and BMI<=24.9:\n",
    "    print(\"You are normal weight.\")\n",
    "else:\n",
    "    print(\"You are overweighted.\")"
   ]
  }
 ],
 "metadata": {
  "kernelspec": {
   "display_name": "Python 3 (ipykernel)",
   "language": "python",
   "name": "python3"
  },
  "language_info": {
   "codemirror_mode": {
    "name": "ipython",
    "version": 3
   },
   "file_extension": ".py",
   "mimetype": "text/x-python",
   "name": "python",
   "nbconvert_exporter": "python",
   "pygments_lexer": "ipython3",
   "version": "3.11.7"
  }
 },
 "nbformat": 4,
 "nbformat_minor": 5
}
