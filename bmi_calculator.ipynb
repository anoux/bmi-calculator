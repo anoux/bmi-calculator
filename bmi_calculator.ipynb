{
 "cells": [
  {
   "cell_type": "code",
   "execution_count": null,
   "id": "aef1831b",
   "metadata": {},
   "outputs": [],
   "source": [
    "# BMI (weight in kilograms) / (height in meters ** 2)"
   ]
  },
  {
   "cell_type": "code",
   "execution_count": 6,
   "id": "252f703b",
   "metadata": {},
   "outputs": [
    {
     "name": "stdout",
     "output_type": "stream",
     "text": [
      "Enter your weight in kilograms: 47\n",
      "Enter your weight in meters: 1.57\n",
      "your BMI is: 19.067710657633167\n",
      "You are normal weight.\n"
     ]
    }
   ],
   "source": [
    "weight = int(input(\"Enter your weight in kilograms: \"))\n",
    "\n",
    "height = float(input(\"Enter your weight in meters: \"))\n",
    "\n",
    "BMI = (weight/height**2)\n",
    "\n",
    "print(\"your BMI is: \" + str(BMI))\n",
    "\n",
    "if BMI<18.5:\n",
    "    print(\"You are underweight.\")\n",
    "elif BMI>=18.5 and BMI<=24.9:\n",
    "    print(\"You are normal weight.\")\n",
    "elif BMI>=25.0 and BMI<=29.9:\n",
    "    print(\"You are overweighted.\")\n",
    "else:\n",
    "    print(\"You are obese.\")"
   ]
  },
  {
   "cell_type": "code",
   "execution_count": null,
   "id": "4384592e",
   "metadata": {},
   "outputs": [],
   "source": []
  },
  {
   "cell_type": "code",
   "execution_count": null,
   "id": "099a35db",
   "metadata": {},
   "outputs": [],
   "source": []
  },
  {
   "cell_type": "code",
   "execution_count": null,
   "id": "38350f16",
   "metadata": {},
   "outputs": [],
   "source": []
  },
  {
   "cell_type": "code",
   "execution_count": null,
   "id": "8b6e754a",
   "metadata": {},
   "outputs": [],
   "source": []
  },
  {
   "cell_type": "code",
   "execution_count": null,
   "id": "b903eead",
   "metadata": {},
   "outputs": [],
   "source": []
  },
  {
   "cell_type": "code",
   "execution_count": null,
   "id": "1a0b6834",
   "metadata": {},
   "outputs": [],
   "source": []
  },
  {
   "cell_type": "code",
   "execution_count": null,
   "id": "73c52b80",
   "metadata": {},
   "outputs": [],
   "source": []
  },
  {
   "cell_type": "code",
   "execution_count": null,
   "id": "1b434f5e",
   "metadata": {},
   "outputs": [],
   "source": [
    "print(weight)"
   ]
  },
  {
   "cell_type": "code",
   "execution_count": null,
   "id": "0fc69d8f",
   "metadata": {},
   "outputs": [],
   "source": []
  }
 ],
 "metadata": {
  "kernelspec": {
   "display_name": "Python 3 (ipykernel)",
   "language": "python",
   "name": "python3"
  },
  "language_info": {
   "codemirror_mode": {
    "name": "ipython",
    "version": 3
   },
   "file_extension": ".py",
   "mimetype": "text/x-python",
   "name": "python",
   "nbconvert_exporter": "python",
   "pygments_lexer": "ipython3",
   "version": "3.11.7"
  }
 },
 "nbformat": 4,
 "nbformat_minor": 5
}
